{
  "nbformat": 4,
  "nbformat_minor": 0,
  "metadata": {
    "colab": {
      "name": "Course Syllabus.ipynb",
      "provenance": [],
      "collapsed_sections": [],
      "authorship_tag": "ABX9TyM1KUQbpwbJYCG3Lw2JduKO",
      "include_colab_link": true
    },
    "kernelspec": {
      "name": "python3",
      "display_name": "Python 3"
    }
  },
  "cells": [
    {
      "cell_type": "markdown",
      "metadata": {
        "id": "view-in-github",
        "colab_type": "text"
      },
      "source": [
        "<a href=\"https://colab.research.google.com/github/carlosug/IDS-RDM-202019-FSFDAWR/blob/master/Course_Syllabus.ipynb\" target=\"_parent\"><img src=\"https://colab.research.google.com/assets/colab-badge.svg\" alt=\"Open In Colab\"/></a>"
      ]
    },
    {
      "cell_type": "markdown",
      "metadata": {
        "id": "ZqHCHdZFDcz-",
        "colab_type": "text"
      },
      "source": [
        "**Course: Foundation Skills for Data Analysis using R**\n",
        "\n",
        "**prepared by : Carlos Utrilla Guerrero**\n",
        "\n",
        "**Date: August 26, 2020**\n",
        "\n",
        "**Revised: June 3, 2020**\n",
        "\n",
        "\n",
        "\n",
        "# Course Syllabus\n",
        "\n",
        "## Day 1: [2h]\n",
        "\n",
        "### 1. Lecture: Introduction to R [00:20 h] \n",
        "\n",
        "| Topics | Schedule | Learning Outcomes |\n",
        "|----|---|---|\n",
        "| [What is R?](inputs/tutorials/Workshop1.docx) | 00:55| What are the essential compoments of R stats? |\n",
        "| [Before we start](inputs/tutorials/Workshop2.docx) | 02:00 | What are the steps for installing R software? | \n",
        "| [Introduction to R](inputs/tutorials/Workshop3.docx) | 03:30 | What is an object, function and missing data? |\n",
        "| [Start playing with R](inputs/tutorials/Workshop4.docx) | 05:00 | How to read and get basic summary information about my dataset?  |\n",
        "\n",
        "\n",
        "### 2. Live-coding: Exploring your dataset [1h]\n",
        "\n",
        "| Topics | Schedule | Learning Outcomes |\n",
        "|----|---|---|\n",
        "| [How to import datasets?](inputs/tutorials/Workshop1.docx) | 00:55| What are the essential compoments of R stats? |\n",
        "| [How to perform statistics?](inputs/tutorials/Workshop2.docx) | 02:00 | What are the steps for installing R software? | \n",
        "| [How to create graphs?](inputs/tutorials/Workshop3.docx) | 03:30 | What is an object, function and missing data? |\n",
        "| [How to report statistics?](inputs/tutorials/Workshop4.docx) | 05:00 | How to read and get basic summary information about my dataset?  |\n",
        "\n",
        "\n",
        "### 3. Assignment 1 [00:40 h]\n",
        "\n",
        "Given two different topics, can you perform a brief summary of descriptive statistics? \n"
      ]
    },
    {
      "cell_type": "markdown",
      "metadata": {
        "id": "elHKS6Y7LE_v",
        "colab_type": "text"
      },
      "source": [
        "## Day 2: [2h]\n",
        "\n",
        "### 1. Lecture: Descriptive Statistics [00:20 h] \n",
        "\n",
        "| Topics | Schedule | Learning Outcomes |\n",
        "|----|---|---|\n",
        "| [What is R?](inputs/tutorials/Workshop1.docx) | 00:55| What are the essential compoments of R stats? |\n",
        "| [Before we start](inputs/tutorials/Workshop2.docx) | 02:00 | What are the steps for installing R software? | \n",
        "| [Introduction to R](inputs/tutorials/Workshop3.docx) | 03:30 | What is an object, function and missing data? |\n",
        "| [Start playing with R](inputs/tutorials/Workshop4.docx) | 05:00 | How to read and get basic summary information about my dataset?  |\n",
        "\n",
        "\n",
        "### 2. Live-coding: Working with your dataset [1h]\n",
        "\n",
        "| Topics | Schedule | Learning Outcomes |\n",
        "|----|---|---|\n",
        "| [How to import datasets?](inputs/tutorials/Workshop1.docx) | 00:55| What are the essential compoments of R stats? |\n",
        "| [How to perform statistics?](inputs/tutorials/Workshop2.docx) | 02:00 | What are the steps for installing R software? | \n",
        "| [How to create graphs?](inputs/tutorials/Workshop3.docx) | 03:30 | What is an object, function and missing data? |\n",
        "| [How to report statistics?](inputs/tutorials/Workshop4.docx) | 05:00 | How to read and get basic summary information about my dataset?  |\n",
        "\n",
        "\n",
        "### 3. Assignment 2 [00:40 h]\n",
        "\n",
        "Given two different topics, can you perform a brief summary of descriptive statistics? "
      ]
    },
    {
      "cell_type": "code",
      "metadata": {
        "id": "jaMTADdiFIhy",
        "colab_type": "code",
        "colab": {}
      },
      "source": [
        ""
      ],
      "execution_count": null,
      "outputs": []
    }
  ]
}