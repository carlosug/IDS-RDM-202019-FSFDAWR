{
  "nbformat": 4,
  "nbformat_minor": 0,
  "metadata": {
    "colab": {
      "name": "Course Syllabus.ipynb",
      "provenance": [],
      "collapsed_sections": [],
      "authorship_tag": "ABX9TyPVXlks3+d5pBvrORIihtl7",
      "include_colab_link": true
    },
    "kernelspec": {
      "name": "python3",
      "display_name": "Python 3"
    }
  },
  "cells": [
    {
      "cell_type": "markdown",
      "metadata": {
        "id": "view-in-github",
        "colab_type": "text"
      },
      "source": [
        "<a href=\"https://colab.research.google.com/github/carlosug/IDS-RDM-202019-FSFDAWR/blob/master/Course_Syllabus.ipynb\" target=\"_parent\"><img src=\"https://colab.research.google.com/assets/colab-badge.svg\" alt=\"Open In Colab\"/></a>"
      ]
    },
    {
      "cell_type": "markdown",
      "metadata": {
        "id": "VAP3Iias42Rx",
        "colab_type": "text"
      },
      "source": [
        "![logoIDS.png](\"./pics/logoIDS.png\")\n",
        "\n",
        "**Proposal course: Foundation Skills for Data Analysis using R**\n",
        "\n",
        "**prepared by : Carlos Utrilla Guerrero**\n",
        "\n",
        "**Date: August 26, 2020**\n",
        "\n",
        "**Status: Work in Progress**\n",
        "\n",
        "# Course Syllabus - What you will learn from this course"
      ]
    },
    {
      "cell_type": "markdown",
      "metadata": {
        "id": "ZqHCHdZFDcz-",
        "colab_type": "text"
      },
      "source": [
        "## Day 1: [2h to complete]\n",
        "\n",
        "### 1. Lecture: Introduction to R [20 min] \n",
        "\n",
        "| Topics | Schedule | Learning Outcomes |\n",
        "|----|---|---|\n",
        "| [What is R?](inputs/tutorials/Workshop1.docx) | 00:05| What are the essential compoments of R stats? |\n",
        "| [Before we start](inputs/tutorials/Workshop2.docx) | 00:10 | What are the steps for installing R software? | \n",
        "| [Introduction to R](inputs/tutorials/Workshop3.docx) | 00:15 | What is an object, function and missing data? |\n",
        "| [Start playing with R](inputs/tutorials/Workshop4.docx) | 00:20 | How to read and get basic summary information about my dataset?  |\n",
        "\n",
        "\n",
        "### 2. Live-coding: Exploring your dataset [1h]\n",
        "\n",
        "| Tutorial | Schedule | Learning Outcomes |\n",
        "|----|---|---|\n",
        "| [How to import datasets?](inputs/tutorials/Workshop1.docx) | 00:15| What are the essential compoments of R stats? |\n",
        "| [How to perform statistics?](inputs/tutorials/Workshop2.docx) | 00:30 | What are the steps for installing R software? | \n",
        "| [How to create graphs?](inputs/tutorials/Workshop3.docx) | 00:45 | What is an object, function and missing data? |\n",
        "| [How to report statistics?](inputs/tutorials/Workshop4.docx) | 01:00 | How to read and get basic summary information about my dataset?  |\n",
        "\n",
        "\n",
        "### 3. Check your knowledge [40 min]\n",
        "\n",
        "[Assignment-1]()\n",
        "\n",
        "_Given two different topics, can you perform a brief summary of descriptive statistics?_\n"
      ]
    },
    {
      "cell_type": "markdown",
      "metadata": {
        "id": "elHKS6Y7LE_v",
        "colab_type": "text"
      },
      "source": [
        "## Day 2: [2h to complete]\n",
        "\n",
        "### 1. Lecture: Descriptive Statistics [30 min] \n",
        "\n",
        "| Topics | Schedule | Learning Outcomes |\n",
        "|----|---|---|\n",
        "| [Four basic R lessons](inputs/tutorials/Workshop1.docx) | 00:06| What are the essential compoments of R stats? |\n",
        "| [Data scientific method](inputs/tutorials/Workshop2.docx) | 00:12 | What are the steps for installing R software? | \n",
        "| [Data cleaning](inputs/tutorials/Workshop3.docx) | 00:18 | What is an object, function and missing data? |\n",
        "| [Data exploration](inputs/tutorials/Workshop4.docx) | 00:24 | How to read and get basic summary information about my dataset?  |\n",
        "| [Data visualisation](inputs/tutorials/Workshop4.docx) | 00:30 | which graphs best fit with my data type?  |\n",
        "\n",
        "\n",
        "### 2. Live-coding: Data science cycle [1h]\n",
        "\n",
        "| Topics | Schedule | Learning Outcomes |\n",
        "|----|---|---|\n",
        "| [Read your data](inputs/tutorials/Workshop1.docx) | 00:12| What are the different methods to read data in R? |\n",
        "| [Understanding your data](inputs/tutorials/Workshop2.docx) | 00:24 | How can we assess the quality of dataset? | \n",
        "| [Data transformation and missing values](inputs/tutorials/Workshop3.docx) | 00:36 | What are the necessary steps to clean the data? |\n",
        "| [Summary Statistics](inputs/tutorials/Workshop4.docx) | 00:48 | How can we calculate measures of central tendency and variability?  |\n",
        "| [Data visualisation](inputs/tutorials/Workshop4.docx) | 01:00 | How to make great data visualisations?  |\n",
        "\n",
        "\n",
        "### 3. Check your knowledge [30 min]\n",
        "\n",
        "[Assignment-2]()\n",
        "\n",
        "[Bonus section - writing your own functions]()"
      ]
    },
    {
      "cell_type": "markdown",
      "metadata": {
        "id": "3E6lGkfN6Y37",
        "colab_type": "text"
      },
      "source": [
        "## Day 3: [2h to complete]\n",
        "\n",
        "### 1. Lecture: Basic principles of statistical inference [30 min] \n",
        "\n",
        "| Topics | Schedule | Learning Outcomes |\n",
        "|----|---|---|\n",
        "| [Descriptive vs Inferential statistics](inputs/tutorials/Workshop1.docx) | 00:05| What are the essential compoments of R stats? |\n",
        "| [Population, sample and sampling distribution](inputs/tutorials/Workshop2.docx) | 00:10 | What are the steps for installing R software? | \n",
        "| [Hypothesis testing](inputs/tutorials/Workshop3.docx) | 00:20 | What is an object, function and missing data? |\n",
        "| [Correlation and interpretation](inputs/tutorials/Workshop4.docx) | 00:30 | How to read and get basic summary information about my dataset?  |\n",
        "\n",
        "\n",
        "### 2. Live-coding: hello to `t.test()` [1h]\n",
        "\n",
        "| Topics | Schedule | Learning Outcomes |\n",
        "|----|---|---|\n",
        "| [Hypothesis testing](inputs/tutorials/Workshop1.docx) | 00:30| What are the different functions for t.tests in R? |\n",
        "| [Scatter plot, correlation and covariance](inputs/tutorials/Workshop2.docx) | 01:00 | How can we calculate, visualize and interpret covariance and correlation? | \n",
        "\n",
        "\n",
        "### 3. Check your knowledge [30 min]\n",
        "\n",
        "[Assignment-3]()\n",
        "\n",
        "* Research question 1: Is there a correlation between a patient’s age and their CD4 T cell count at baseline?\n",
        "\n",
        "* Research question 2: Do patients with a history of intravenous drug use have higher CD4 T cell counts at baseline compared to patients without a history of intravenous drug use?\n",
        "\n",
        "\n",
        "\n",
        "[Bonus section - writing your own functions]()"
      ]
    },
    {
      "cell_type": "markdown",
      "metadata": {
        "id": "MaL5n9C0_noX",
        "colab_type": "text"
      },
      "source": [
        "## Day 4: [2h to complete]\n",
        "\n",
        "### 1. Lecture: More about inferential statistics [30 min] \n",
        "\n",
        "| Topics | Schedule | Learning Outcomes |\n",
        "|----|---|---|\n",
        "| [Choosing a statistical test](inputs/tutorials/Workshop1.docx) | 00:06| What is the most appropriate statistical test for your research? |\n",
        "| [Paired t-test](inputs/tutorials/Workshop2.docx) | 00:12 | How R compute t statistical value? | \n",
        "| [ANOVA](inputs/tutorials/Workshop4.docx) | 00:24 | How to compute one-way ANOVA in R?  |\n",
        "| [Chi-square test for independence](inputs/tutorials/Workshop3.docx) | 00:30 | How R calculate Chi square statistic? |\n",
        "\n",
        "\n",
        "\n",
        "### 2. Live-coding: R loves inferential statistics [1h]\n",
        "\n",
        "| Topics | Schedule | Learning Outcomes |\n",
        "|----|---|---|\n",
        "| [Paired t-test](inputs/tutorials/Workshop2.docx) | 00:20 | How R compute t statistical value? | \n",
        "| [Testing multiple groups ANOVA](inputs/tutorials/Workshop2.docx) | 00:40 | What are the general steps to conduct ANOVA? | \n",
        "| [Chi-square test](inputs/tutorials/Workshop3.docx) | 01:00 | When do we need to perform Chi-square test? |\n",
        "\n",
        "\n",
        "### 3. Check your knowledge [30 min]\n",
        "\n",
        "[Assignment-4]()"
      ]
    },
    {
      "cell_type": "markdown",
      "metadata": {
        "id": "I_8LylLiI9ET",
        "colab_type": "text"
      },
      "source": [
        "## Day 5: [2h to complete]\n",
        "\n",
        "### 1. Lecture: Linear and Logistic regression [30 min] \n",
        "\n",
        "| Topics | Schedule | Learning Outcomes |\n",
        "|----|---|---|\n",
        "| [Simple linear regression](inputs/tutorials/Workshop1.docx) | 00:06| What is the most appropriate statistical test for your research? |\n",
        "| [Multiple linear regression](inputs/tutorials/Workshop2.docx) | 00:12 | How R compute t statistical value? | \n",
        "| [Linear model assumptions](inputs/tutorials/Workshop4.docx) | 00:24 | How to compute one-way ANOVA in R?  |\n",
        "| [Logistic regression](inputs/tutorials/Workshop3.docx) | 00:30 | How R calculate Chi square statistic? |\n",
        "\n",
        "\n",
        "\n",
        "### 2. Live-coding: Advance Statistics with R [1h]\n",
        "\n",
        "| Topics | Schedule | Learning Outcomes |\n",
        "|----|---|---|\n",
        "| [Simple linear regression](inputs/tutorials/Workshop2.docx) | 00:10 |What is linear regression and its interpretation? | \n",
        "| [Residual Plot](inputs/tutorials/Workshop2.docx) | 00:20 | Why we need to plot the residuals? | \n",
        "| [Multiple linear regression](inputs/tutorials/Workshop3.docx) | 00:30 | How to build, interpret and assess the model accuracy? |\n",
        "| [Logistic regression](inputs/tutorials/Workshop3.docx) | 00:40 | What is logistic regression and its interpretation? |\n",
        "| [Multiple logistic regression](inputs/tutorials/Workshop3.docx) | 01:00 | How to build, interpret and assess the model accuracy? |\n",
        "\n",
        "\n",
        "### 5. Check your knowledge [30 min]\n",
        "\n",
        "[Assignment-5]()"
      ]
    },
    {
      "cell_type": "markdown",
      "metadata": {
        "id": "J5JjrOtUY0d5",
        "colab_type": "text"
      },
      "source": [
        "# Final Project\n",
        "\n",
        "Practice for real-research application\n",
        "\n",
        "In this project, you'll learn how to use your own datasets. Then, in the following exercise, you'll design and create your own data cleaning, exploration, visualisation and apply statistical techniques to address research questions."
      ]
    }
  ]
}