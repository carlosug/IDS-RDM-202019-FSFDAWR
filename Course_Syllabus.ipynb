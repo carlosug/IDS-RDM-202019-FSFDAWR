{
  "nbformat": 4,
  "nbformat_minor": 0,
  "metadata": {
    "colab": {
      "name": "Course Syllabus.ipynb",
      "provenance": [],
      "collapsed_sections": [],
      "authorship_tag": "ABX9TyNToltx3XZMvOzb6231bj1S",
      "include_colab_link": true
    },
    "kernelspec": {
      "name": "python3",
      "display_name": "Python 3"
    }
  },
  "cells": [
    {
      "cell_type": "markdown",
      "metadata": {
        "id": "view-in-github",
        "colab_type": "text"
      },
      "source": [
        "<a href=\"https://colab.research.google.com/github/carlosug/IDS-RDM-202019-FSFDAWR/blob/master/Course_Syllabus.ipynb\" target=\"_parent\"><img src=\"https://colab.research.google.com/assets/colab-badge.svg\" alt=\"Open In Colab\"/></a>"
      ]
    },
    {
      "cell_type": "markdown",
      "metadata": {
        "id": "VAP3Iias42Rx",
        "colab_type": "text"
      },
      "source": [
        "![logoIDS.png](data:image/png;base64,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)\n",
        "\n",
        "**Proposal course: Foundation Skills for Data Analysis using R**\n",
        "\n",
        "**prepared by : Carlos Utrilla Guerrero**\n",
        "\n",
        "**Date: August 26, 2020**\n",
        "\n",
        "**Status: Work in Progress**\n",
        "\n",
        "# Course Syllabus - What you will learn from this course"
      ]
    },
    {
      "cell_type": "markdown",
      "metadata": {
        "id": "ZqHCHdZFDcz-",
        "colab_type": "text"
      },
      "source": [
        "## Day 1: [2h to complete]\n",
        "\n",
        "### 1. Lecture: Introduction to R [20 min] \n",
        "\n",
        "| Topics | Schedule | Learning Outcomes |\n",
        "|----|---|---|\n",
        "| [What is R?](inputs/tutorials/Workshop1.docx) | 00:05| What are the essential compoments of R stats? |\n",
        "| [Before we start](inputs/tutorials/Workshop2.docx) | 00:10 | What are the steps for installing R software? | \n",
        "| [Introduction to R](inputs/tutorials/Workshop3.docx) | 00:15 | What is an object, function and missing data? |\n",
        "| [Start playing with R](inputs/tutorials/Workshop4.docx) | 00:20 | How to read and get basic summary information about my dataset?  |\n",
        "\n",
        "\n",
        "### 2. Live-coding: Exploring your dataset [1h]\n",
        "\n",
        "| Tutorial | Schedule | Learning Outcomes |\n",
        "|----|---|---|\n",
        "| [How to import datasets?](inputs/tutorials/Workshop1.docx) | 00:15| What are the essential compoments of R stats? |\n",
        "| [How to perform statistics?](inputs/tutorials/Workshop2.docx) | 00:30 | What are the steps for installing R software? | \n",
        "| [How to create graphs?](inputs/tutorials/Workshop3.docx) | 00:45 | What is an object, function and missing data? |\n",
        "| [How to report statistics?](inputs/tutorials/Workshop4.docx) | 01:00 | How to read and get basic summary information about my dataset?  |\n",
        "\n",
        "\n",
        "### 3. Check your knowledge [40 min]\n",
        "\n",
        "[Assignment-1]()\n",
        "\n",
        "_Given two different topics, can you perform a brief summary of descriptive statistics?_\n"
      ]
    },
    {
      "cell_type": "markdown",
      "metadata": {
        "id": "elHKS6Y7LE_v",
        "colab_type": "text"
      },
      "source": [
        "## Day 2: [2h to complete]\n",
        "\n",
        "### 1. Lecture: Descriptive Statistics [30 min] \n",
        "\n",
        "| Topics | Schedule | Learning Outcomes |\n",
        "|----|---|---|\n",
        "| [Four basic R lessons](inputs/tutorials/Workshop1.docx) | 00:06| What are the essential compoments of R stats? |\n",
        "| [Data scientific method](inputs/tutorials/Workshop2.docx) | 00:12 | What are the steps for installing R software? | \n",
        "| [Data cleaning](inputs/tutorials/Workshop3.docx) | 00:18 | What is an object, function and missing data? |\n",
        "| [Data exploration](inputs/tutorials/Workshop4.docx) | 00:24 | How to read and get basic summary information about my dataset?  |\n",
        "| [Data visualisation](inputs/tutorials/Workshop4.docx) | 00:30 | which graphs best fit with my data type?  |\n",
        "\n",
        "\n",
        "### 2. Live-coding: Data science cycle [1h]\n",
        "\n",
        "| Topics | Schedule | Learning Outcomes |\n",
        "|----|---|---|\n",
        "| [Read your data](inputs/tutorials/Workshop1.docx) | 00:12| What are the different methods to read data in R? |\n",
        "| [Understanding your data](inputs/tutorials/Workshop2.docx) | 00:24 | How can we assess the quality of dataset? | \n",
        "| [Data transformation and missing values](inputs/tutorials/Workshop3.docx) | 00:36 | What are the necessary steps to clean the data? |\n",
        "| [Summary Statistics](inputs/tutorials/Workshop4.docx) | 00:48 | How can we calculate measures of central tendency and variability?  |\n",
        "| [Data visualisation](inputs/tutorials/Workshop4.docx) | 01:00 | How to make great data visualisations?  |\n",
        "\n",
        "\n",
        "### 3. Check your knowledge [30 min]\n",
        "\n",
        "[Assignment-2]()\n",
        "\n",
        "[Bonus section - writing your own functions]()"
      ]
    },
    {
      "cell_type": "markdown",
      "metadata": {
        "id": "3E6lGkfN6Y37",
        "colab_type": "text"
      },
      "source": [
        "## Day 3: [2h to complete]\n",
        "\n",
        "### 1. Lecture: Basic principles of statistical inference [30 min] \n",
        "\n",
        "| Topics | Schedule | Learning Outcomes |\n",
        "|----|---|---|\n",
        "| [Descriptive vs Inferential statistics](inputs/tutorials/Workshop1.docx) | 00:05| What are the essential compoments of R stats? |\n",
        "| [Population, sample and sampling distribution](inputs/tutorials/Workshop2.docx) | 00:10 | What are the steps for installing R software? | \n",
        "| [Hypothesis testing](inputs/tutorials/Workshop3.docx) | 00:20 | What is an object, function and missing data? |\n",
        "| [Correlation and interpretation](inputs/tutorials/Workshop4.docx) | 00:30 | How to read and get basic summary information about my dataset?  |\n",
        "\n",
        "\n",
        "### 2. Live-coding: hello to `t.test()` [1h]\n",
        "\n",
        "| Topics | Schedule | Learning Outcomes |\n",
        "|----|---|---|\n",
        "| [Hypothesis testing](inputs/tutorials/Workshop1.docx) | 00:30| What are the different functions for t.tests in R? |\n",
        "| [Scatter plot, correlation and covariance](inputs/tutorials/Workshop2.docx) | 01:00 | How can we calculate, visualize and interpret covariance and correlation? | \n",
        "\n",
        "\n",
        "### 3. Check your knowledge [30 min]\n",
        "\n",
        "[Assignment-3]()\n",
        "\n",
        "* Research question 1: Is there a correlation between a patient’s age and their CD4 T cell count at baseline?\n",
        "\n",
        "* Research question 2: Do patients with a history of intravenous drug use have higher CD4 T cell counts at baseline compared to patients without a history of intravenous drug use?\n",
        "\n",
        "\n",
        "\n",
        "[Bonus section - writing your own functions]()"
      ]
    },
    {
      "cell_type": "markdown",
      "metadata": {
        "id": "MaL5n9C0_noX",
        "colab_type": "text"
      },
      "source": [
        "## Day 4: [2h to complete]\n",
        "\n",
        "### 1. Lecture: More about inferential statistics [30 min] \n",
        "\n",
        "| Topics | Schedule | Learning Outcomes |\n",
        "|----|---|---|\n",
        "| [Choosing a statistical test](inputs/tutorials/Workshop1.docx) | 00:06| What is the most appropriate statistical test for your research? |\n",
        "| [Paired t-test](inputs/tutorials/Workshop2.docx) | 00:12 | How R compute t statistical value? | \n",
        "| [ANOVA](inputs/tutorials/Workshop4.docx) | 00:24 | How to compute one-way ANOVA in R?  |\n",
        "| [Chi-square test for independence](inputs/tutorials/Workshop3.docx) | 00:30 | How R calculate Chi square statistic? |\n",
        "\n",
        "\n",
        "\n",
        "### 2. Live-coding: R loves inferential statistics [1h]\n",
        "\n",
        "| Topics | Schedule | Learning Outcomes |\n",
        "|----|---|---|\n",
        "| [Paired t-test](inputs/tutorials/Workshop2.docx) | 00:20 | How R compute t statistical value? | \n",
        "| [Testing multiple groups ANOVA](inputs/tutorials/Workshop2.docx) | 00:40 | What are the general steps to conduct ANOVA? | \n",
        "| [Chi-square test](inputs/tutorials/Workshop3.docx) | 01:00 | When do we need to perform Chi-square test? |\n",
        "\n",
        "\n",
        "### 3. Check your knowledge [30 min]\n",
        "\n",
        "[Assignment-4]()"
      ]
    },
    {
      "cell_type": "markdown",
      "metadata": {
        "id": "I_8LylLiI9ET",
        "colab_type": "text"
      },
      "source": [
        "## Day 5: [2h to complete]\n",
        "\n",
        "### 1. Lecture: Linear and Logistic regression [30 min] \n",
        "\n",
        "| Topics | Schedule | Learning Outcomes |\n",
        "|----|---|---|\n",
        "| [Simple linear regression](inputs/tutorials/Workshop1.docx) | 00:06| What is the most appropriate statistical test for your research? |\n",
        "| [Multiple linear regression](inputs/tutorials/Workshop2.docx) | 00:12 | How R compute t statistical value? | \n",
        "| [Linear model assumptions](inputs/tutorials/Workshop4.docx) | 00:24 | How to compute one-way ANOVA in R?  |\n",
        "| [Logistic regression](inputs/tutorials/Workshop3.docx) | 00:30 | How R calculate Chi square statistic? |\n",
        "\n",
        "\n",
        "\n",
        "### 2. Live-coding: Advance Statistics with R [1h]\n",
        "\n",
        "| Topics | Schedule | Learning Outcomes |\n",
        "|----|---|---|\n",
        "| [Simple linear regression](inputs/tutorials/Workshop2.docx) | 00:10 |What is linear regression and its interpretation? | \n",
        "| [Residual Plot](inputs/tutorials/Workshop2.docx) | 00:20 | Why we need to plot the residuals? | \n",
        "| [Multiple linear regression](inputs/tutorials/Workshop3.docx) | 00:30 | How to build, interpret and assess the model accuracy? |\n",
        "| [Logistic regression](inputs/tutorials/Workshop3.docx) | 00:40 | What is logistic regression and its interpretation? |\n",
        "| [Multiple logistic regression](inputs/tutorials/Workshop3.docx) | 01:00 | How to build, interpret and assess the model accuracy? |\n",
        "\n",
        "\n",
        "### 5. Check your knowledge [30 min]\n",
        "\n",
        "[Assignment-5]()"
      ]
    },
    {
      "cell_type": "markdown",
      "metadata": {
        "id": "J5JjrOtUY0d5",
        "colab_type": "text"
      },
      "source": [
        "# Final Project\n",
        "\n",
        "Practice for real-research application\n",
        "\n",
        "In this project, you'll learn how to use your own datasets. Then, in the following exercise, you'll design and create your own data cleaning, exploration, visualisation and apply statistical techniques to address research questions."
      ]
    }
  ]
}